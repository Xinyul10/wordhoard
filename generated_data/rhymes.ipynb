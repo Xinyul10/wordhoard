{
 "cells": [
  {
   "cell_type": "code",
   "execution_count": 54,
   "metadata": {},
   "outputs": [],
   "source": [
    "import nltk\n",
    "import pprint\n",
    "\n",
    "pp = pprint.PrettyPrinter(depth=6)\n",
    "\n",
    "#nltk.download()"
   ]
  },
  {
   "cell_type": "code",
   "execution_count": 55,
   "metadata": {},
   "outputs": [],
   "source": [
    "dict = nltk.corpus.cmudict.dict()"
   ]
  },
  {
   "cell_type": "code",
   "execution_count": 63,
   "metadata": {},
   "outputs": [],
   "source": [
    "def trailingPhenomesMatch(word_pron, other_pron):\n",
    "    left = word_pron[::-1]\n",
    "    right = other_pron[::-1]\n",
    "    \n",
    "    length = max(len(left), len(right))\n",
    "    \n",
    "    idx = 0\n",
    "    score = 0\n",
    "    \n",
    "    while(idx < length):\n",
    "        if(idx == len(right) or idx == len(left) or left[idx] != right[idx]):\n",
    "            return score\n",
    "        else:\n",
    "            score += 1\n",
    "        idx += 1\n",
    "        \n",
    "    return 0\n",
    "    \n",
    "def find_rhymes(word):\n",
    "    results = [] \n",
    "    word_pron = dict[word][0]\n",
    "    \n",
    "    for key in dict:\n",
    "        other_word = key\n",
    "        other_pron = dict[other_word][0]\n",
    "        score = trailingPhenomesMatch(word_pron, other_pron)\n",
    "        \n",
    "        if (score > 1):\n",
    "            results.append([score, other_word, \" \".join(other_pron)])\n",
    "        \n",
    "    return results\n",
    "\n",
    "def rhymes(word):\n",
    "    results = []\n",
    "    \n",
    "    if (not word):\n",
    "        return results\n",
    "    \n",
    "    word = word.lower()\n",
    "    \n",
    "    if(word not in dict.keys()):\n",
    "        return results\n",
    "    \n",
    "    pron = dict[word]\n",
    "    \n",
    "    results = find_rhymes(word);\n",
    "    results.sort(key=lambda x: (-x[0], len(x[2]), x[1]))\n",
    "    \n",
    "    return results[:20]"
   ]
  },
  {
   "cell_type": "code",
   "execution_count": 65,
   "metadata": {
    "scrolled": true
   },
   "outputs": [
    {
     "name": "stdout",
     "output_type": "stream",
     "text": [
      "[[3, 'scat', 'S K AE1 T'],\n",
      " [2, 'at', 'AE1 T'],\n",
      " [2, 'bat', 'B AE1 T'],\n",
      " [2, 'batt', 'B AE1 T'],\n",
      " [2, 'batte', 'B AE1 T'],\n",
      " [2, 'bhatt', 'B AE1 T'],\n",
      " [2, 'dat', 'D AE1 T'],\n",
      " [2, 'fat', 'F AE1 T'],\n",
      " [2, 'gat', 'G AE1 T'],\n",
      " [2, 'gatt', 'G AE1 T'],\n",
      " [2, 'gnat', 'N AE1 T'],\n",
      " [2, 'mat', 'M AE1 T'],\n",
      " [2, 'matt', 'M AE1 T'],\n",
      " [2, 'matte', 'M AE1 T'],\n",
      " [2, 'nat', 'N AE1 T'],\n",
      " [2, 'pat', 'P AE1 T'],\n",
      " [2, 'patt', 'P AE1 T'],\n",
      " [2, 'rat', 'R AE1 T'],\n",
      " [2, 'ratte', 'R AE1 T'],\n",
      " [2, 'sat', 'S AE1 T']]\n"
     ]
    }
   ],
   "source": [
    "pprint.pprint(rhymes('cat'))"
   ]
  },
  {
   "cell_type": "code",
   "execution_count": null,
   "metadata": {},
   "outputs": [],
   "source": []
  }
 ],
 "metadata": {
  "kernelspec": {
   "display_name": "Python 3",
   "language": "python",
   "name": "python3"
  },
  "language_info": {
   "codemirror_mode": {
    "name": "ipython",
    "version": 3
   },
   "file_extension": ".py",
   "mimetype": "text/x-python",
   "name": "python",
   "nbconvert_exporter": "python",
   "pygments_lexer": "ipython3",
   "version": "3.7.6"
  }
 },
 "nbformat": 4,
 "nbformat_minor": 4
}
